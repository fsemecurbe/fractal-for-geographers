{
 "cells": [
  {
   "cell_type": "code",
   "execution_count": 1,
   "id": "b9bd6233",
   "metadata": {},
   "outputs": [],
   "source": [
    "import numpy as np\n",
    "import matplotlib.pyplot as plt\n",
    "import matplotlib as mpl\n",
    "import jenkspy\n",
    "import pandas as pd\n",
    "import geopandas as gpd\n",
    "from shapely.geometry import Polygon"
   ]
  },
  {
   "cell_type": "code",
   "execution_count": 2,
   "id": "1bd2ea5d",
   "metadata": {},
   "outputs": [],
   "source": [
    "#!pip install jenkspy --proxy http://rie.proxy.national.agri:8080"
   ]
  },
  {
   "cell_type": "code",
   "execution_count": 3,
   "id": "4c6fc6c2",
   "metadata": {},
   "outputs": [],
   "source": [
    "def cascade(generateur, nb_iterations):\n",
    "    fractal = generateur\n",
    "    for i in range(nb_iterations):\n",
    "        fractal = np.kron(fractal, generateur)\n",
    "    return(fractal)"
   ]
  },
  {
   "cell_type": "code",
   "execution_count": 4,
   "id": "280e7266",
   "metadata": {},
   "outputs": [],
   "source": [
    "gen1 = np.array([[.5/8,.5/8,.5/8],[.5/8,.5,.5/8],[.5/8,.5/8,.5/8]])"
   ]
  },
  {
   "cell_type": "code",
   "execution_count": 5,
   "id": "a11e5815",
   "metadata": {},
   "outputs": [],
   "source": [
    "test = cascade(gen1,5)"
   ]
  },
  {
   "cell_type": "code",
   "execution_count": 6,
   "id": "94491942",
   "metadata": {},
   "outputs": [
    {
     "data": {
      "text/plain": [
       "(729, 729)"
      ]
     },
     "execution_count": 6,
     "metadata": {},
     "output_type": "execute_result"
    }
   ],
   "source": [
    "test.shape"
   ]
  },
  {
   "cell_type": "code",
   "execution_count": 7,
   "id": "ee8bffe4",
   "metadata": {},
   "outputs": [],
   "source": [
    "mpl.use('svg')  \n",
    "\n",
    "cmap = mpl.cm.RdYlGn_r\n",
    "bounds = np.quantile(test, np.arange(0,1,.005))\n",
    "bounds = jenkspy.jenks_breaks(test.flatten()[np.random.choice(test.flatten().shape[0], 1000, replace=False)], n_classes=5)\n",
    "norm = mpl.colors.BoundaryNorm(bounds, cmap.N, extend='both')\n",
    "mpl.cm.ScalarMappable(norm=norm, cmap=cmap)\n",
    "\n",
    "\n",
    "fig, ax = plt.subplots(figsize=(20,20))\n",
    "plt.subplots_adjust(bottom=0, right=1, top=1, left=0)\n",
    "\n",
    "ax.set_axis_off();\n",
    "ax.imshow(cmap(norm(test)))\n",
    "plt.savefig(\"multifractal.svg\", format='svg', dpi=300)"
   ]
  },
  {
   "cell_type": "markdown",
   "id": "994691f6",
   "metadata": {},
   "source": [
    "#### Creation des etapes"
   ]
  },
  {
   "cell_type": "code",
   "execution_count": 8,
   "id": "b014f93f",
   "metadata": {},
   "outputs": [],
   "source": [
    "x = [0,1,2]\n",
    "y = [0,1,2]\n",
    "temp = [np.tile(x, len(y))*3, np.repeat(y, len(x))*3]"
   ]
  },
  {
   "cell_type": "code",
   "execution_count": 9,
   "id": "6857d36c",
   "metadata": {},
   "outputs": [],
   "source": [
    "nine = np.arange(9)"
   ]
  },
  {
   "cell_type": "code",
   "execution_count": 10,
   "id": "0155e573",
   "metadata": {},
   "outputs": [],
   "source": [
    "first_level = pd.DataFrame({'x' : nine % 3 , 'y' : nine // 3, 'i' :  nine +1 })\n",
    "first_level['Prob'] = '$P_' + first_level.i.astype(str) + '$' "
   ]
  },
  {
   "cell_type": "code",
   "execution_count": 11,
   "id": "f1e04c27",
   "metadata": {},
   "outputs": [],
   "source": [
    "first_level['indexi'] = first_level.i.astype(str)"
   ]
  },
  {
   "cell_type": "code",
   "execution_count": 12,
   "id": "38c932ce",
   "metadata": {},
   "outputs": [],
   "source": [
    "size = 3\n",
    "geometry = [ Polygon ([( x * size , y * size) ,\n",
    "                       ( x * size + size , y * size) ,\n",
    "                       ( x * size + size , y * size + size ) ,\n",
    "                       (x * size , y *size + size ) ])\n",
    "             for x , y in zip (first_level['x'] , first_level['y']) ]\n",
    "first_level = gpd.GeoDataFrame(first_level, geometry = geometry , crs='EPSG:3035')"
   ]
  },
  {
   "cell_type": "code",
   "execution_count": 13,
   "id": "f476a6d0",
   "metadata": {},
   "outputs": [],
   "source": [
    "fig, ax = plt.subplots(figsize=(20,20))\n",
    "\n",
    "first_level.boundary.plot(color='black', figsize=(10,10), linewidth=10, ax=ax)\n",
    "ax.set_axis_off()\n",
    "plt.subplots_adjust(bottom=0, right=1, top=1, left=0)\n",
    "\n",
    "centroid = first_level.copy()\n",
    "centroid['x'] = centroid.geometry.centroid.x\n",
    "centroid['y'] = centroid.geometry.centroid.y\n",
    "\n",
    "for x, y, label in zip(centroid.x, centroid.y, centroid.Prob):\n",
    "    ax.annotate(label, xy=(x-0.5, y-0.5), xytext=(-2, +5), textcoords=\"offset points\", size=200)\n",
    "plt.savefig(\"multifractal1.svg\", format='svg', dpi=300)"
   ]
  },
  {
   "cell_type": "code",
   "execution_count": 14,
   "id": "b5f52bce",
   "metadata": {},
   "outputs": [],
   "source": [
    "fig, ax = plt.subplots(figsize=(20,20))\n",
    "\n",
    "first_level.boundary.plot(color='black', figsize=(10,10), linewidth=10, ax=ax)\n",
    "#first_level[first_level.i==5].boundary.plot(color='red', ax=ax,linewidth=10)\n",
    "#first_level[first_level.i==5].plot(color='gray', ax=ax,linewidth=10)\n",
    "ax.set_axis_off()\n",
    "plt.subplots_adjust(bottom=0, right=1, top=1, left=0)\n",
    "\n",
    "centroid = first_level.copy()\n",
    "centroid['x'] = centroid.geometry.centroid.x\n",
    "centroid['y'] = centroid.geometry.centroid.y\n",
    "\n",
    "for x, y, label in zip(centroid.x, centroid.y, centroid.indexi):\n",
    "    ax.annotate(label, xy=(x-0.5, y-0.5), xytext=(-2, +5), textcoords=\"offset points\", size=200)\n",
    "plt.savefig(\"multifractal1a.svg\", format='svg', dpi=300)"
   ]
  },
  {
   "cell_type": "code",
   "execution_count": 15,
   "id": "4addf2f4",
   "metadata": {},
   "outputs": [],
   "source": [
    "import matplotlib.image as image\n",
    "from matplotlib.offsetbox import (OffsetImage, AnnotationBbox)\n",
    "santa = image.imread('santa.png')\n",
    "imagebox = OffsetImage(santa, zoom = 2.5)\n",
    "\n",
    "\n",
    "fig, ax = plt.subplots(figsize=(20,20))\n",
    "\n",
    "first_level.boundary.plot(color='black', figsize=(10,10), linewidth=10, ax=ax)\n",
    "first_level[first_level.i==5].boundary.plot(color='red', ax=ax,linewidth=10)\n",
    "first_level[first_level.i==5].plot(color='gray', ax=ax,linewidth=10)\n",
    "ax.set_axis_off()\n",
    "plt.subplots_adjust(bottom=0, right=1, top=1, left=0)\n",
    "\n",
    "centroid = first_level.copy()\n",
    "centroid['x'] = centroid.geometry.centroid.x\n",
    "centroid['y'] = centroid.geometry.centroid.y\n",
    "\n",
    "ab = AnnotationBbox(imagebox, (4.5, 4.5), frameon = False)\n",
    "ax.add_artist(ab)\n",
    "\n",
    "#for x, y, label in zip(centroid.x, centroid.y, centroid.indexi):\n",
    "#    ax.annotate(label, xy=(x-0.5, y-0.5), xytext=(-2, +5), textcoords=\"offset points\", size=200)\n",
    "\n",
    "plt.savefig(\"multifractal1b2.svg\", format='svg', dpi=300)"
   ]
  },
  {
   "cell_type": "code",
   "execution_count": 16,
   "id": "489b1e57",
   "metadata": {},
   "outputs": [],
   "source": [
    "first_level['santa'] = [None, None, None, None, \"🎅\".encode(\"utf8\"), None, None, None, None]"
   ]
  },
  {
   "cell_type": "code",
   "execution_count": 17,
   "id": "6263f578",
   "metadata": {},
   "outputs": [],
   "source": [
    "fig, ax = plt.subplots(figsize=(20,20))\n",
    "\n",
    "first_level.boundary.plot(color='black', figsize=(10,10), linewidth=10, ax=ax)\n",
    "first_level[first_level.i==5].boundary.plot(color='red', ax=ax,linewidth=10)\n",
    "first_level[first_level.i==5].plot(color='gray', ax=ax,linewidth=10)\n",
    "ax.set_axis_off()\n",
    "plt.subplots_adjust(bottom=0, right=1, top=1, left=0)\n",
    "\n",
    "centroid = first_level.copy()\n",
    "centroid['x'] = centroid.geometry.centroid.x\n",
    "centroid['y'] = centroid.geometry.centroid.y\n",
    "\n",
    "for x, y, label in zip(centroid.x, centroid.y, centroid.indexi):\n",
    "    ax.annotate(label, xy=(x-0.5, y-0.5), xytext=(-2, +5), textcoords=\"offset points\", size=200)\n",
    "    \n",
    "plt.savefig(\"multifractal1b2.svg\", format='svg', dpi=300)"
   ]
  },
  {
   "cell_type": "code",
   "execution_count": 18,
   "id": "89026c49",
   "metadata": {},
   "outputs": [],
   "source": [
    "group1 = first_level[first_level.i.isin([1,2,3,4])].copy()\n",
    "group1['ag'] = 1\n",
    "group1 = group1.dissolve(by='ag', as_index=False) "
   ]
  },
  {
   "cell_type": "code",
   "execution_count": 19,
   "id": "baba1e80",
   "metadata": {},
   "outputs": [],
   "source": [
    "fig, ax = plt.subplots(figsize=(20,20))\n",
    "\n",
    "first_level.boundary.plot(color='black', figsize=(10,10), linewidth=10, ax=ax)\n",
    "first_level[first_level.i.isin([1,2,3,4])].plot(color='gray', ax=ax,linewidth=10)\n",
    "group1.boundary.plot(color='red', ax=ax,linewidth=10)\n",
    "first_level[first_level.i==5].plot(color='black', ax=ax,linewidth=10)\n",
    "ax.set_axis_off()\n",
    "plt.subplots_adjust(bottom=0, right=1, top=1, left=0)\n",
    "\n",
    "centroid = first_level.copy()\n",
    "centroid['x'] = centroid.geometry.centroid.x\n",
    "centroid['y'] = centroid.geometry.centroid.y\n",
    "\n",
    "for x, y, label in zip(centroid.x, centroid.y, centroid.indexi):\n",
    "    ax.annotate(label, xy=(x-0.5, y-0.5), xytext=(-2, +5), textcoords=\"offset points\", size=200)\n",
    "plt.savefig(\"multifractal1c.svg\", format='svg', dpi=300)"
   ]
  },
  {
   "cell_type": "code",
   "execution_count": 20,
   "id": "3ec5665b",
   "metadata": {},
   "outputs": [],
   "source": [
    "group2 = first_level[first_level.i.isin([1,2])].copy()\n",
    "group2['ag'] = 1\n",
    "group2 = group2.dissolve(by='ag', as_index=False) "
   ]
  },
  {
   "cell_type": "code",
   "execution_count": 21,
   "id": "f81c137a",
   "metadata": {},
   "outputs": [],
   "source": [
    "fig, ax = plt.subplots(figsize=(20,20))\n",
    "\n",
    "first_level.boundary.plot(color='black', figsize=(10,10), linewidth=10, ax=ax)\n",
    "first_level[first_level.i.isin([1,2])].plot(color='gray', ax=ax,linewidth=10)\n",
    "group2.boundary.plot(color='red', ax=ax,linewidth=10)\n",
    "first_level[first_level.i.isin([5,6,7,8,9])].plot(color='black', ax=ax,linewidth=10)\n",
    "ax.set_axis_off()\n",
    "plt.subplots_adjust(bottom=0, right=1, top=1, left=0)\n",
    "\n",
    "centroid = first_level.copy()\n",
    "centroid['x'] = centroid.geometry.centroid.x\n",
    "centroid['y'] = centroid.geometry.centroid.y\n",
    "\n",
    "for x, y, label in zip(centroid.x, centroid.y, centroid.indexi):\n",
    "    ax.annotate(label, xy=(x-0.5, y-0.5), xytext=(-2, +5), textcoords=\"offset points\", size=200)\n",
    "plt.savefig(\"multifractal1d.svg\", format='svg', dpi=300)"
   ]
  },
  {
   "cell_type": "code",
   "execution_count": 22,
   "id": "ccfb3b40",
   "metadata": {},
   "outputs": [],
   "source": [
    "fig, ax = plt.subplots(figsize=(20,20))\n",
    "\n",
    "first_level.boundary.plot(color='black', figsize=(10,10), linewidth=10, ax=ax)\n",
    "first_level[first_level.i.isin([3])].plot(color='gray', ax=ax,linewidth=10)\n",
    "first_level[first_level.i.isin([3])].boundary.plot(color='red', ax=ax,linewidth=10)\n",
    "first_level[first_level.i.isin([1,2,5,6,7,8,9])].plot(color='black', ax=ax,linewidth=10)\n",
    "ax.set_axis_off()\n",
    "plt.subplots_adjust(bottom=0, right=1, top=1, left=0)\n",
    "\n",
    "centroid = first_level.copy()\n",
    "centroid['x'] = centroid.geometry.centroid.x\n",
    "centroid['y'] = centroid.geometry.centroid.y\n",
    "\n",
    "for x, y, label in zip(centroid.x, centroid.y, centroid.indexi):\n",
    "    ax.annotate(label, xy=(x-0.5, y-0.5), xytext=(-2, +5), textcoords=\"offset points\", size=200)\n",
    "plt.savefig(\"multifractal1e.svg\", format='svg', dpi=300)"
   ]
  },
  {
   "cell_type": "code",
   "execution_count": 23,
   "id": "1d54335a",
   "metadata": {},
   "outputs": [],
   "source": [
    "fig, ax = plt.subplots(figsize=(20,20))\n",
    "santa = image.imread('santa.png')\n",
    "imagebox = OffsetImage(santa, zoom = 2.5)\n",
    "first_level.boundary.plot(color='black', figsize=(10,10), linewidth=10, ax=ax)\n",
    "first_level[first_level.i.isin([3])].plot(color='gray', ax=ax,linewidth=10)\n",
    "first_level[first_level.i.isin([3])].boundary.plot(color='red', ax=ax,linewidth=10)\n",
    "first_level[first_level.i.isin([1,2,5,6,7,8,9])].plot(color='black', ax=ax,linewidth=10)\n",
    "ax.set_axis_off()\n",
    "plt.subplots_adjust(bottom=0, right=1, top=1, left=0)\n",
    "\n",
    "centroid = first_level.copy()\n",
    "centroid['x'] = centroid.geometry.centroid.x\n",
    "centroid['y'] = centroid.geometry.centroid.y\n",
    "\n",
    "for x, y, label in zip(centroid.x, centroid.y, centroid.indexi):\n",
    "    ax.annotate(label, xy=(x-0.5, y-0.5), xytext=(-2, +5), textcoords=\"offset points\", size=200)\n",
    "\n",
    "ab = AnnotationBbox(imagebox, (7.5, 1.5), frameon = False)\n",
    "ax.add_artist(ab)\n",
    "plt.savefig(\"multifractal1eb.svg\", format='svg', dpi=300)"
   ]
  },
  {
   "cell_type": "code",
   "execution_count": 24,
   "id": "ef76674e",
   "metadata": {},
   "outputs": [],
   "source": [
    "second_level = pd.DataFrame({'x2' : nine % 3 , 'y2' : nine // 3, 'i2' :  nine +1 })\n",
    "second_level['Prob'] = '$P_' + second_level.i2.astype(str) + '$' "
   ]
  },
  {
   "cell_type": "code",
   "execution_count": 25,
   "id": "3821a86e",
   "metadata": {},
   "outputs": [],
   "source": [
    "second_level = first_level.merge(second_level, how='cross')"
   ]
  },
  {
   "cell_type": "code",
   "execution_count": 26,
   "id": "357e5fb0",
   "metadata": {},
   "outputs": [],
   "source": [
    "second_level['Prob'] = '$P_{' + second_level.i2.astype(str) +  '} . P_' + second_level.i.astype(str) + ' $'"
   ]
  },
  {
   "cell_type": "code",
   "execution_count": 27,
   "id": "ebd97a42",
   "metadata": {},
   "outputs": [
    {
     "data": {
      "text/plain": [
       "0     $P_{1} . P_1 $\n",
       "1     $P_{2} . P_1 $\n",
       "2     $P_{3} . P_1 $\n",
       "3     $P_{4} . P_1 $\n",
       "4     $P_{5} . P_1 $\n",
       "           ...      \n",
       "76    $P_{5} . P_9 $\n",
       "77    $P_{6} . P_9 $\n",
       "78    $P_{7} . P_9 $\n",
       "79    $P_{8} . P_9 $\n",
       "80    $P_{9} . P_9 $\n",
       "Name: Prob, Length: 81, dtype: object"
      ]
     },
     "execution_count": 27,
     "metadata": {},
     "output_type": "execute_result"
    }
   ],
   "source": [
    "second_level.Prob"
   ]
  },
  {
   "cell_type": "code",
   "execution_count": 28,
   "id": "50a8b18d",
   "metadata": {},
   "outputs": [],
   "source": [
    "size = 1\n",
    "geometry = [ Polygon ([( x * size + x2*3 , y * size + y2*3) ,\n",
    "                       ( x * size + size + x2*3 , y * size+y2*3 ) ,\n",
    "                       ( x * size + size+ x2*3 , y * size + size+ y2*3) ,\n",
    "                       (x * size+ x2*3 , y *size + size+y2*3 ) ])\n",
    "             for x , y, x2, y2 in zip (second_level['x'] , second_level['y'], second_level['x2'] , second_level['y2']) ]\n",
    "second_level = gpd.GeoDataFrame(second_level, geometry = geometry , crs='EPSG:3035')"
   ]
  },
  {
   "cell_type": "code",
   "execution_count": 29,
   "id": "3033ec42",
   "metadata": {},
   "outputs": [],
   "source": [
    "fig, ax = plt.subplots(figsize=(20,20))\n",
    "\n",
    "first_level.boundary.plot(color='black', figsize=(10,10), linewidth=10, ax=ax)\n",
    "ax.set_axis_off()\n",
    "plt.subplots_adjust(bottom=0, right=1, top=1, left=0)\n",
    "second_level.boundary.plot(ax=ax, zorder=1, ls = '--', color='black')\n",
    "\n",
    "centroid = second_level.copy()\n",
    "centroid['x'] = centroid.geometry.centroid.x\n",
    "centroid['y'] = centroid.geometry.centroid.y\n",
    "\n",
    "for x, y, label in zip(centroid.x, centroid.y, centroid.Prob):\n",
    "    ax.annotate(label, xy=(x-0.35, y-0.1), xytext=(-5, +2), textcoords=\"offset points\", size=45)\n",
    "plt.savefig(\"multifractal2.svg\", format='svg', dpi=300)\n"
   ]
  },
  {
   "cell_type": "code",
   "execution_count": 30,
   "id": "06b555a5",
   "metadata": {},
   "outputs": [],
   "source": [
    "test = cascade(gen1,1)\n",
    "\n",
    "mpl.use('svg')  \n",
    "\n",
    "cmap = mpl.cm.RdYlGn_r\n",
    "bounds = np.quantile(test, np.arange(0,1,.05))\n",
    "bounds = jenkspy.jenks_breaks(test.flatten(), n_classes=3)\n",
    "norm = mpl.colors.BoundaryNorm(bounds, cmap.N, extend='both')\n",
    "mpl.cm.ScalarMappable(norm=norm, cmap=cmap)\n",
    "\n",
    "\n",
    "fig, ax = plt.subplots(figsize=(20,20))\n",
    "plt.subplots_adjust(bottom=0, right=1, top=1, left=0)\n",
    "\n",
    "ax.set_axis_off();\n",
    "ax.imshow(cmap(norm(test)))\n",
    "plt.savefig(\"multifractal3.svg\", format='svg', dpi=300)"
   ]
  },
  {
   "cell_type": "code",
   "execution_count": 31,
   "id": "beb51fe4",
   "metadata": {},
   "outputs": [],
   "source": [
    "test = cascade(gen1,2)\n",
    "mpl.use('svg')  \n",
    "\n",
    "cmap = mpl.cm.RdYlGn_r\n",
    "#bounds = np.quantile(test, np.arange(0,1,.05))\n",
    "bounds = jenkspy.jenks_breaks(test.flatten(), n_classes=4)\n",
    "norm = mpl.colors.BoundaryNorm(bounds, cmap.N, extend='both')\n",
    "mpl.cm.ScalarMappable(norm=norm, cmap=cmap)\n",
    "\n",
    "\n",
    "fig, ax = plt.subplots(figsize=(20,20))\n",
    "plt.subplots_adjust(bottom=0, right=1, top=1, left=0)\n",
    "\n",
    "ax.set_axis_off();\n",
    "ax.imshow(cmap(norm(test)))\n",
    "plt.savefig(\"multifractal4.svg\", format='svg', dpi=300)"
   ]
  },
  {
   "cell_type": "code",
   "execution_count": 32,
   "id": "beac7c5f",
   "metadata": {},
   "outputs": [],
   "source": [
    "test = cascade(gen1,3)\n",
    "mpl.use('svg')  \n",
    "\n",
    "cmap = mpl.cm.RdYlGn_r\n",
    "#bounds = np.quantile(test, np.arange(0,1,.05))\n",
    "bounds = jenkspy.jenks_breaks(test.flatten(), n_classes=5)\n",
    "norm = mpl.colors.BoundaryNorm(bounds, cmap.N, extend='both')\n",
    "mpl.cm.ScalarMappable(norm=norm, cmap=cmap)\n",
    "\n",
    "\n",
    "fig, ax = plt.subplots(figsize=(20,20))\n",
    "plt.subplots_adjust(bottom=0, right=1, top=1, left=0)\n",
    "\n",
    "ax.set_axis_off();\n",
    "ax.imshow(cmap(norm(test)))\n",
    "plt.savefig(\"multifractal5.svg\", format='svg', dpi=300)"
   ]
  },
  {
   "cell_type": "code",
   "execution_count": null,
   "id": "ac95b00f",
   "metadata": {},
   "outputs": [],
   "source": []
  }
 ],
 "metadata": {
  "kernelspec": {
   "display_name": "Python 3 (ipykernel)",
   "language": "python",
   "name": "python3"
  },
  "language_info": {
   "codemirror_mode": {
    "name": "ipython",
    "version": 3
   },
   "file_extension": ".py",
   "mimetype": "text/x-python",
   "name": "python",
   "nbconvert_exporter": "python",
   "pygments_lexer": "ipython3",
   "version": "3.9.7"
  }
 },
 "nbformat": 4,
 "nbformat_minor": 5
}
